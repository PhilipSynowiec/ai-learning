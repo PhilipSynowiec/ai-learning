{
  "nbformat": 4,
  "nbformat_minor": 0,
  "metadata": {
    "colab": {
      "provenance": [],
      "include_colab_link": true
    },
    "kernelspec": {
      "name": "python3",
      "display_name": "Python 3"
    },
    "language_info": {
      "name": "python"
    }
  },
  "cells": [
    {
      "cell_type": "markdown",
      "metadata": {
        "id": "view-in-github",
        "colab_type": "text"
      },
      "source": [
        "<a href=\"https://colab.research.google.com/github/PhilipSynowiec/ai-learning/blob/main/Notebooks/Chap11/11_2_Residual_Networks.ipynb\" target=\"_parent\"><img src=\"https://colab.research.google.com/assets/colab-badge.svg\" alt=\"Open In Colab\"/></a>"
      ]
    },
    {
      "cell_type": "markdown",
      "source": [
        "# **Notebook 11.2: Residual Networks**\n",
        "\n",
        "This notebook adapts the networks for MNIST1D to use residual connections.\n",
        "\n",
        "Work through the cells below, running each cell in turn. In various places you will see the words \"TODO\". Follow the instructions at these places and make predictions about what is going to happen or write code to complete the functions.\n",
        "\n",
        "Contact me at udlbookmail@gmail.com if you find any mistakes or have any suggestions.\n",
        "\n"
      ],
      "metadata": {
        "id": "t9vk9Elugvmi"
      }
    },
    {
      "cell_type": "code",
      "source": [
        "# Run this if you're in a Colab to install MNIST 1D repository\n",
        "!pip install git+https://github.com/greydanus/mnist1d"
      ],
      "metadata": {
        "id": "D5yLObtZCi9J",
        "outputId": "a1601419-ba35-4549-d482-dff764cb0338",
        "colab": {
          "base_uri": "https://localhost:8080/"
        }
      },
      "execution_count": 1,
      "outputs": [
        {
          "output_type": "stream",
          "name": "stdout",
          "text": [
            "Collecting git+https://github.com/greydanus/mnist1d\n",
            "  Cloning https://github.com/greydanus/mnist1d to /tmp/pip-req-build-3nopbznl\n",
            "  Running command git clone --filter=blob:none --quiet https://github.com/greydanus/mnist1d /tmp/pip-req-build-3nopbznl\n",
            "  Resolved https://github.com/greydanus/mnist1d to commit 7878d96082abd200c546a07a4101fa90b30fdf7e\n",
            "  Installing build dependencies ... \u001b[?25l\u001b[?25hdone\n",
            "  Getting requirements to build wheel ... \u001b[?25l\u001b[?25hdone\n",
            "  Preparing metadata (pyproject.toml) ... \u001b[?25l\u001b[?25hdone\n",
            "Requirement already satisfied: requests in /usr/local/lib/python3.12/dist-packages (from mnist1d==0.0.2.post16) (2.32.4)\n",
            "Requirement already satisfied: numpy in /usr/local/lib/python3.12/dist-packages (from mnist1d==0.0.2.post16) (2.0.2)\n",
            "Requirement already satisfied: matplotlib in /usr/local/lib/python3.12/dist-packages (from mnist1d==0.0.2.post16) (3.10.0)\n",
            "Requirement already satisfied: scipy in /usr/local/lib/python3.12/dist-packages (from mnist1d==0.0.2.post16) (1.16.1)\n",
            "Requirement already satisfied: contourpy>=1.0.1 in /usr/local/lib/python3.12/dist-packages (from matplotlib->mnist1d==0.0.2.post16) (1.3.3)\n",
            "Requirement already satisfied: cycler>=0.10 in /usr/local/lib/python3.12/dist-packages (from matplotlib->mnist1d==0.0.2.post16) (0.12.1)\n",
            "Requirement already satisfied: fonttools>=4.22.0 in /usr/local/lib/python3.12/dist-packages (from matplotlib->mnist1d==0.0.2.post16) (4.59.2)\n",
            "Requirement already satisfied: kiwisolver>=1.3.1 in /usr/local/lib/python3.12/dist-packages (from matplotlib->mnist1d==0.0.2.post16) (1.4.9)\n",
            "Requirement already satisfied: packaging>=20.0 in /usr/local/lib/python3.12/dist-packages (from matplotlib->mnist1d==0.0.2.post16) (25.0)\n",
            "Requirement already satisfied: pillow>=8 in /usr/local/lib/python3.12/dist-packages (from matplotlib->mnist1d==0.0.2.post16) (11.3.0)\n",
            "Requirement already satisfied: pyparsing>=2.3.1 in /usr/local/lib/python3.12/dist-packages (from matplotlib->mnist1d==0.0.2.post16) (3.2.3)\n",
            "Requirement already satisfied: python-dateutil>=2.7 in /usr/local/lib/python3.12/dist-packages (from matplotlib->mnist1d==0.0.2.post16) (2.9.0.post0)\n",
            "Requirement already satisfied: charset_normalizer<4,>=2 in /usr/local/lib/python3.12/dist-packages (from requests->mnist1d==0.0.2.post16) (3.4.3)\n",
            "Requirement already satisfied: idna<4,>=2.5 in /usr/local/lib/python3.12/dist-packages (from requests->mnist1d==0.0.2.post16) (3.10)\n",
            "Requirement already satisfied: urllib3<3,>=1.21.1 in /usr/local/lib/python3.12/dist-packages (from requests->mnist1d==0.0.2.post16) (2.5.0)\n",
            "Requirement already satisfied: certifi>=2017.4.17 in /usr/local/lib/python3.12/dist-packages (from requests->mnist1d==0.0.2.post16) (2025.8.3)\n",
            "Requirement already satisfied: six>=1.5 in /usr/local/lib/python3.12/dist-packages (from python-dateutil>=2.7->matplotlib->mnist1d==0.0.2.post16) (1.17.0)\n",
            "Building wheels for collected packages: mnist1d\n",
            "  Building wheel for mnist1d (pyproject.toml) ... \u001b[?25l\u001b[?25hdone\n",
            "  Created wheel for mnist1d: filename=mnist1d-0.0.2.post16-py3-none-any.whl size=14665 sha256=88761ce83f410e19f0027fa1d4bd2666741190fb3ea22c516ae0dccb4a13d44d\n",
            "  Stored in directory: /tmp/pip-ephem-wheel-cache-oga8d1sm/wheels/18/40/b6/29381fee9b4c80fdbc304d52bb065a7286bbcca5ca2b8737c0\n",
            "Successfully built mnist1d\n",
            "Installing collected packages: mnist1d\n",
            "Successfully installed mnist1d-0.0.2.post16\n"
          ]
        }
      ]
    },
    {
      "cell_type": "code",
      "source": [
        "import numpy as np\n",
        "import os\n",
        "import torch, torch.nn as nn\n",
        "from torch.utils.data import TensorDataset, DataLoader\n",
        "from torch.optim.lr_scheduler import StepLR\n",
        "import matplotlib.pyplot as plt\n",
        "import mnist1d\n",
        "import random"
      ],
      "metadata": {
        "id": "YrXWAH7sUWvU"
      },
      "execution_count": 2,
      "outputs": []
    },
    {
      "cell_type": "code",
      "source": [
        "args = mnist1d.data.get_dataset_args()\n",
        "data = mnist1d.data.get_dataset(args, path='./mnist1d_data.pkl', download=False, regenerate=False)\n",
        "\n",
        "# The training and test input and outputs are in\n",
        "# data['x'], data['y'], data['x_test'], and data['y_test']\n",
        "print(\"Examples in training set: {}\".format(len(data['y'])))\n",
        "print(\"Examples in test set: {}\".format(len(data['y_test'])))\n",
        "print(\"Length of each example: {}\".format(data['x'].shape[-1]))"
      ],
      "metadata": {
        "id": "twI72ZCrCt5z",
        "outputId": "633f18eb-7246-4904-c4a2-7102d5f43cbd",
        "colab": {
          "base_uri": "https://localhost:8080/"
        }
      },
      "execution_count": 3,
      "outputs": [
        {
          "output_type": "stream",
          "name": "stdout",
          "text": [
            "Did or could not load data from ./mnist1d_data.pkl. Rebuilding dataset...\n",
            "Examples in training set: 4000\n",
            "Examples in test set: 1000\n",
            "Length of each example: 40\n"
          ]
        }
      ]
    },
    {
      "cell_type": "code",
      "source": [
        "# Load in the data\n",
        "train_data_x = data['x'].transpose()\n",
        "train_data_y = data['y']\n",
        "val_data_x = data['x_test'].transpose()\n",
        "val_data_y = data['y_test']\n",
        "# Print out sizes\n",
        "print(\"Train data: %d examples (columns), each of which has %d dimensions (rows)\"%((train_data_x.shape[1],train_data_x.shape[0])))\n",
        "print(\"Validation data: %d examples (columns), each of which has %d dimensions (rows)\"%((val_data_x.shape[1],val_data_x.shape[0])))"
      ],
      "metadata": {
        "id": "8bKADvLHbiV5",
        "outputId": "7afd1ac4-926f-4bb2-b11c-11dc0d10f577",
        "colab": {
          "base_uri": "https://localhost:8080/"
        }
      },
      "execution_count": 4,
      "outputs": [
        {
          "output_type": "stream",
          "name": "stdout",
          "text": [
            "Train data: 4000 examples (columns), each of which has 40 dimensions (rows)\n",
            "Validation data: 1000 examples (columns), each of which has 40 dimensions (rows)\n"
          ]
        }
      ]
    },
    {
      "cell_type": "markdown",
      "source": [
        "Define the network"
      ],
      "metadata": {
        "id": "_sFvRDGrl4qe"
      }
    },
    {
      "cell_type": "code",
      "source": [
        "# There are 40 input dimensions and 10 output dimensions for this data\n",
        "# The inputs correspond to the 40 offsets in the MNIST1D template.\n",
        "D_i = 40\n",
        "# The outputs correspond to the 10 digits\n",
        "D_o = 10\n",
        "\n",
        "\n",
        "# We will adapt this model to have residual connections around the linear layers\n",
        "# This is the same model we used in practical 8.1, but we can't use the sequential\n",
        "# class for residual networks (which aren't strictly sequential).  Hence, I've rewritten\n",
        "# it as a model that inherits from a base class\n",
        "\n",
        "class ResidualNetwork(torch.nn.Module):\n",
        "  def __init__(self, input_size, output_size, hidden_size=100):\n",
        "    super(ResidualNetwork, self).__init__()\n",
        "    self.linear1 = nn.Linear(input_size, hidden_size)\n",
        "    self.linear2 = nn.Linear(hidden_size, hidden_size)\n",
        "    self.linear3 = nn.Linear(hidden_size, hidden_size)\n",
        "    self.linear4 = nn.Linear(hidden_size, output_size)\n",
        "    print(\"Initialized MLPBase model with {} parameters\".format(self.count_params()))\n",
        "\n",
        "  def count_params(self):\n",
        "    return sum([p.view(-1).shape[0] for p in self.parameters()])\n",
        "\n",
        "# TODO -- Add residual connections to this model\n",
        "# The order of operations within each block should similar to figure 11.5b\n",
        "# ie., linear1 first, ReLU+linear2 in first residual block, ReLU+linear3 in second residual block), linear4 at end\n",
        "# Replace this function\n",
        "  def forward(self, x):\n",
        "    h1 = self.linear1(x)\n",
        "    h2 = self.linear2(h1.relu()) + h1\n",
        "    h3 = self.linear3(h2.relu()) + h2\n",
        "    return self.linear4(h3.relu())\n"
      ],
      "metadata": {
        "id": "FslroPJJffrh"
      },
      "execution_count": 17,
      "outputs": []
    },
    {
      "cell_type": "code",
      "source": [
        "# He initialization of weights\n",
        "def weights_init(layer_in):\n",
        "  if isinstance(layer_in, nn.Linear):\n",
        "    nn.init.kaiming_uniform_(layer_in.weight)\n",
        "    layer_in.bias.data.fill_(0.0)"
      ],
      "metadata": {
        "id": "YgLaex1pfhqz"
      },
      "execution_count": 22,
      "outputs": []
    },
    {
      "cell_type": "code",
      "source": [
        "#Define the model\n",
        "model = ResidualNetwork(40, 10)\n",
        "\n",
        "# choose cross entropy loss function (equation 5.24 in the loss notes)\n",
        "loss_function = nn.CrossEntropyLoss()\n",
        "# construct SGD optimizer and initialize learning rate and momentum\n",
        "optimizer = torch.optim.SGD(model.parameters(), lr = 0.05, momentum=0.9)\n",
        "# object that decreases learning rate by half every 20 epochs\n",
        "scheduler = StepLR(optimizer, step_size=20, gamma=0.5)\n",
        "# convert data to torch tensors\n",
        "x_train = torch.tensor(train_data_x.transpose().astype('float32'))\n",
        "y_train = torch.tensor(train_data_y.astype('long'))\n",
        "x_val= torch.tensor(val_data_x.transpose().astype('float32'))\n",
        "y_val = torch.tensor(val_data_y.astype('long'))\n",
        "\n",
        "# load the data into a class that creates the batches\n",
        "data_loader = DataLoader(TensorDataset(x_train,y_train), batch_size=100, shuffle=True, worker_init_fn=np.random.seed(1))\n",
        "\n",
        "# Initialize model weights\n",
        "model.apply(weights_init)\n",
        "\n",
        "# loop over the dataset n_epoch times\n",
        "n_epoch = 100\n",
        "# store the loss and the % correct at each epoch\n",
        "losses_train = np.zeros((n_epoch))\n",
        "errors_train = np.zeros((n_epoch))\n",
        "losses_val = np.zeros((n_epoch))\n",
        "errors_val = np.zeros((n_epoch))\n",
        "\n",
        "for epoch in range(n_epoch):\n",
        "  # loop over batches\n",
        "  for i, data in enumerate(data_loader):\n",
        "    # retrieve inputs and labels for this batch\n",
        "    x_batch, y_batch = data\n",
        "    # zero the parameter gradients\n",
        "    optimizer.zero_grad()\n",
        "    # forward pass -- calculate model output\n",
        "    pred = model(x_batch)\n",
        "    # compute the loss\n",
        "    loss = loss_function(pred, y_batch)\n",
        "    # backward pass\n",
        "    loss.backward()\n",
        "    # SGD update\n",
        "    optimizer.step()\n",
        "\n",
        "  # Run whole dataset to get statistics -- normally wouldn't do this\n",
        "  pred_train = model(x_train)\n",
        "  pred_val = model(x_val)\n",
        "  _, predicted_train_class = torch.max(pred_train.data, 1)\n",
        "  _, predicted_val_class = torch.max(pred_val.data, 1)\n",
        "  errors_train[epoch] = 100 - 100 * (predicted_train_class == y_train).float().sum() / len(y_train)\n",
        "  errors_val[epoch]= 100 - 100 * (predicted_val_class == y_val).float().sum() / len(y_val)\n",
        "  losses_train[epoch] = loss_function(pred_train, y_train).item()\n",
        "  losses_val[epoch]= loss_function(pred_val, y_val).item()\n",
        "  print(f'Epoch {epoch:5d}, train loss {losses_train[epoch]:.6f}, train error {errors_train[epoch]:3.2f},  val loss {losses_val[epoch]:.6f}, percent error {errors_val[epoch]:3.2f}')\n",
        "\n",
        "  # tell scheduler to consider updating learning rate\n",
        "  scheduler.step()"
      ],
      "metadata": {
        "id": "NYw8I_3mmX5c",
        "outputId": "c9a950a0-450d-43ec-cd55-5df3c67cd6c2",
        "colab": {
          "base_uri": "https://localhost:8080/"
        }
      },
      "execution_count": 24,
      "outputs": [
        {
          "output_type": "stream",
          "name": "stdout",
          "text": [
            "Initialized MLPBase model with 25310 parameters\n",
            "Epoch     0, train loss 1.639769, train error 65.18,  val loss 1.709490, percent error 69.90\n",
            "Epoch     1, train loss 1.319519, train error 50.30,  val loss 1.453463, percent error 59.00\n",
            "Epoch     2, train loss 1.100519, train error 39.90,  val loss 1.296771, percent error 51.50\n",
            "Epoch     3, train loss 1.008039, train error 38.42,  val loss 1.276703, percent error 48.80\n",
            "Epoch     4, train loss 0.894364, train error 33.22,  val loss 1.190181, percent error 45.70\n",
            "Epoch     5, train loss 0.746234, train error 27.95,  val loss 1.138958, percent error 41.70\n",
            "Epoch     6, train loss 0.689067, train error 26.28,  val loss 1.176756, percent error 41.10\n",
            "Epoch     7, train loss 0.617225, train error 22.32,  val loss 1.170584, percent error 40.40\n",
            "Epoch     8, train loss 0.587141, train error 22.45,  val loss 1.254945, percent error 42.20\n",
            "Epoch     9, train loss 0.562971, train error 20.75,  val loss 1.252822, percent error 39.20\n",
            "Epoch    10, train loss 0.511213, train error 18.80,  val loss 1.167751, percent error 39.00\n",
            "Epoch    11, train loss 0.456419, train error 16.97,  val loss 1.327860, percent error 41.30\n",
            "Epoch    12, train loss 0.358861, train error 13.68,  val loss 1.226906, percent error 35.80\n",
            "Epoch    13, train loss 0.349492, train error 12.68,  val loss 1.318314, percent error 37.70\n",
            "Epoch    14, train loss 0.379367, train error 13.47,  val loss 1.303337, percent error 36.70\n",
            "Epoch    15, train loss 0.262285, train error 8.97,  val loss 1.256170, percent error 33.20\n",
            "Epoch    16, train loss 0.277776, train error 9.62,  val loss 1.259723, percent error 36.10\n",
            "Epoch    17, train loss 0.283879, train error 9.72,  val loss 1.297638, percent error 36.60\n",
            "Epoch    18, train loss 0.348136, train error 11.72,  val loss 1.522215, percent error 36.60\n",
            "Epoch    19, train loss 0.275706, train error 9.38,  val loss 1.521023, percent error 36.60\n",
            "Epoch    20, train loss 0.072500, train error 1.53,  val loss 1.320173, percent error 32.20\n",
            "Epoch    21, train loss 0.036575, train error 0.35,  val loss 1.376208, percent error 30.90\n",
            "Epoch    22, train loss 0.023659, train error 0.10,  val loss 1.446143, percent error 31.10\n",
            "Epoch    23, train loss 0.016841, train error 0.00,  val loss 1.490390, percent error 31.70\n",
            "Epoch    24, train loss 0.012921, train error 0.00,  val loss 1.530760, percent error 31.50\n",
            "Epoch    25, train loss 0.010533, train error 0.00,  val loss 1.571368, percent error 31.60\n",
            "Epoch    26, train loss 0.008813, train error 0.00,  val loss 1.613892, percent error 32.00\n",
            "Epoch    27, train loss 0.007651, train error 0.00,  val loss 1.638300, percent error 31.90\n",
            "Epoch    28, train loss 0.006799, train error 0.00,  val loss 1.665714, percent error 32.20\n",
            "Epoch    29, train loss 0.006105, train error 0.00,  val loss 1.686734, percent error 31.70\n",
            "Epoch    30, train loss 0.005501, train error 0.00,  val loss 1.712466, percent error 31.90\n",
            "Epoch    31, train loss 0.005035, train error 0.00,  val loss 1.731038, percent error 32.00\n",
            "Epoch    32, train loss 0.004642, train error 0.00,  val loss 1.750970, percent error 32.50\n",
            "Epoch    33, train loss 0.004292, train error 0.00,  val loss 1.769724, percent error 32.00\n",
            "Epoch    34, train loss 0.003997, train error 0.00,  val loss 1.785378, percent error 32.30\n",
            "Epoch    35, train loss 0.003736, train error 0.00,  val loss 1.803790, percent error 32.30\n",
            "Epoch    36, train loss 0.003501, train error 0.00,  val loss 1.817598, percent error 32.10\n",
            "Epoch    37, train loss 0.003286, train error 0.00,  val loss 1.829148, percent error 32.20\n",
            "Epoch    38, train loss 0.003122, train error 0.00,  val loss 1.848443, percent error 32.00\n",
            "Epoch    39, train loss 0.002933, train error 0.00,  val loss 1.856696, percent error 31.70\n",
            "Epoch    40, train loss 0.002851, train error 0.00,  val loss 1.863110, percent error 31.70\n",
            "Epoch    41, train loss 0.002778, train error 0.00,  val loss 1.869624, percent error 31.80\n",
            "Epoch    42, train loss 0.002708, train error 0.00,  val loss 1.876544, percent error 31.70\n",
            "Epoch    43, train loss 0.002644, train error 0.00,  val loss 1.882206, percent error 31.90\n",
            "Epoch    44, train loss 0.002579, train error 0.00,  val loss 1.887446, percent error 31.90\n",
            "Epoch    45, train loss 0.002520, train error 0.00,  val loss 1.892715, percent error 31.90\n",
            "Epoch    46, train loss 0.002462, train error 0.00,  val loss 1.898854, percent error 31.80\n",
            "Epoch    47, train loss 0.002407, train error 0.00,  val loss 1.904889, percent error 31.70\n",
            "Epoch    48, train loss 0.002353, train error 0.00,  val loss 1.909963, percent error 31.80\n",
            "Epoch    49, train loss 0.002303, train error 0.00,  val loss 1.915048, percent error 31.50\n",
            "Epoch    50, train loss 0.002253, train error 0.00,  val loss 1.919761, percent error 31.70\n",
            "Epoch    51, train loss 0.002208, train error 0.00,  val loss 1.924439, percent error 31.50\n",
            "Epoch    52, train loss 0.002162, train error 0.00,  val loss 1.929950, percent error 31.50\n",
            "Epoch    53, train loss 0.002119, train error 0.00,  val loss 1.933688, percent error 31.40\n",
            "Epoch    54, train loss 0.002077, train error 0.00,  val loss 1.939594, percent error 31.40\n",
            "Epoch    55, train loss 0.002038, train error 0.00,  val loss 1.943553, percent error 31.40\n",
            "Epoch    56, train loss 0.002000, train error 0.00,  val loss 1.948043, percent error 31.50\n",
            "Epoch    57, train loss 0.001961, train error 0.00,  val loss 1.952078, percent error 31.50\n",
            "Epoch    58, train loss 0.001925, train error 0.00,  val loss 1.957017, percent error 31.50\n",
            "Epoch    59, train loss 0.001889, train error 0.00,  val loss 1.962050, percent error 31.50\n",
            "Epoch    60, train loss 0.001872, train error 0.00,  val loss 1.964188, percent error 31.50\n",
            "Epoch    61, train loss 0.001855, train error 0.00,  val loss 1.966005, percent error 31.50\n",
            "Epoch    62, train loss 0.001839, train error 0.00,  val loss 1.968144, percent error 31.50\n",
            "Epoch    63, train loss 0.001822, train error 0.00,  val loss 1.970008, percent error 31.50\n",
            "Epoch    64, train loss 0.001807, train error 0.00,  val loss 1.972406, percent error 31.50\n",
            "Epoch    65, train loss 0.001791, train error 0.00,  val loss 1.974389, percent error 31.50\n",
            "Epoch    66, train loss 0.001776, train error 0.00,  val loss 1.976444, percent error 31.50\n",
            "Epoch    67, train loss 0.001761, train error 0.00,  val loss 1.978281, percent error 31.50\n",
            "Epoch    68, train loss 0.001746, train error 0.00,  val loss 1.980305, percent error 31.50\n",
            "Epoch    69, train loss 0.001731, train error 0.00,  val loss 1.982602, percent error 31.50\n",
            "Epoch    70, train loss 0.001717, train error 0.00,  val loss 1.984910, percent error 31.60\n",
            "Epoch    71, train loss 0.001703, train error 0.00,  val loss 1.985998, percent error 31.50\n",
            "Epoch    72, train loss 0.001689, train error 0.00,  val loss 1.988482, percent error 31.50\n",
            "Epoch    73, train loss 0.001675, train error 0.00,  val loss 1.990663, percent error 31.50\n",
            "Epoch    74, train loss 0.001662, train error 0.00,  val loss 1.992620, percent error 31.50\n",
            "Epoch    75, train loss 0.001648, train error 0.00,  val loss 1.994392, percent error 31.60\n",
            "Epoch    76, train loss 0.001635, train error 0.00,  val loss 1.996701, percent error 31.60\n",
            "Epoch    77, train loss 0.001622, train error 0.00,  val loss 1.998293, percent error 31.60\n",
            "Epoch    78, train loss 0.001610, train error 0.00,  val loss 2.000432, percent error 31.70\n",
            "Epoch    79, train loss 0.001597, train error 0.00,  val loss 2.002015, percent error 31.60\n",
            "Epoch    80, train loss 0.001591, train error 0.00,  val loss 2.002781, percent error 31.50\n",
            "Epoch    81, train loss 0.001585, train error 0.00,  val loss 2.003857, percent error 31.60\n",
            "Epoch    82, train loss 0.001578, train error 0.00,  val loss 2.004666, percent error 31.50\n",
            "Epoch    83, train loss 0.001572, train error 0.00,  val loss 2.005663, percent error 31.60\n",
            "Epoch    84, train loss 0.001566, train error 0.00,  val loss 2.006441, percent error 31.50\n",
            "Epoch    85, train loss 0.001560, train error 0.00,  val loss 2.007531, percent error 31.50\n",
            "Epoch    86, train loss 0.001554, train error 0.00,  val loss 2.008416, percent error 31.60\n",
            "Epoch    87, train loss 0.001548, train error 0.00,  val loss 2.009377, percent error 31.50\n",
            "Epoch    88, train loss 0.001543, train error 0.00,  val loss 2.010363, percent error 31.50\n",
            "Epoch    89, train loss 0.001537, train error 0.00,  val loss 2.011173, percent error 31.50\n",
            "Epoch    90, train loss 0.001531, train error 0.00,  val loss 2.012150, percent error 31.60\n",
            "Epoch    91, train loss 0.001525, train error 0.00,  val loss 2.012957, percent error 31.60\n",
            "Epoch    92, train loss 0.001519, train error 0.00,  val loss 2.013905, percent error 31.60\n",
            "Epoch    93, train loss 0.001514, train error 0.00,  val loss 2.014899, percent error 31.60\n",
            "Epoch    94, train loss 0.001508, train error 0.00,  val loss 2.015739, percent error 31.60\n",
            "Epoch    95, train loss 0.001503, train error 0.00,  val loss 2.016443, percent error 31.60\n",
            "Epoch    96, train loss 0.001497, train error 0.00,  val loss 2.017585, percent error 31.60\n",
            "Epoch    97, train loss 0.001492, train error 0.00,  val loss 2.018337, percent error 31.60\n",
            "Epoch    98, train loss 0.001486, train error 0.00,  val loss 2.019224, percent error 31.60\n",
            "Epoch    99, train loss 0.001481, train error 0.00,  val loss 2.020090, percent error 31.60\n"
          ]
        }
      ]
    },
    {
      "cell_type": "code",
      "source": [
        "# Plot the results\n",
        "fig, ax = plt.subplots()\n",
        "ax.plot(errors_train,'r-',label='train')\n",
        "ax.plot(errors_val,'b-',label='test')\n",
        "ax.set_ylim(0,100); ax.set_xlim(0,n_epoch)\n",
        "ax.set_xlabel('Epoch'); ax.set_ylabel('Error')\n",
        "ax.set_title('TrainError %3.2f, Val Error %3.2f'%(errors_train[-1],errors_val[-1]))\n",
        "ax.legend()\n",
        "plt.show()"
      ],
      "metadata": {
        "id": "CcP_VyEmE2sv",
        "outputId": "130dbade-b2cb-4864-856a-83b12ea756e4",
        "colab": {
          "base_uri": "https://localhost:8080/",
          "height": 472
        }
      },
      "execution_count": 19,
      "outputs": [
        {
          "output_type": "display_data",
          "data": {
            "text/plain": [
              "<Figure size 640x480 with 1 Axes>"
            ],
            "image/png": "[encoded data removed]"
          },
          "metadata": {}
        }
      ]
    },
    {
      "cell_type": "markdown",
      "source": [
        "The primary motivation of residual networks is to allow training of much deeper networks.   \n",
        "\n",
        "TODO: Try running this network with and without the residual connections.  Does adding the residual connections change the performance?"
      ],
      "metadata": {
        "id": "wMmqhmxuAx0M"
      }
    }
  ]
}